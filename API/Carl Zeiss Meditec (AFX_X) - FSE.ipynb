{
 "cells": [
  {
   "cell_type": "code",
   "execution_count": 2,
   "metadata": {},
   "outputs": [],
   "source": [
    "import requests"
   ]
  },
  {
   "cell_type": "code",
   "execution_count": 70,
   "metadata": {},
   "outputs": [
    {
     "name": "stdout",
     "output_type": "stream",
     "text": [
      "id:10095370\n",
      "dataset_code:AFX_X\n",
      "database_code:FSE\n",
      "name:Carl Zeiss Meditec (AFX_X)\n",
      "description:Stock Prices for Carl Zeiss Meditec (AFX) from the Frankfurt Stock Exchange.<br><br>Trading System: Xetra<br><br>ISIN: DE0005313704\n",
      "refreshed_at:2019-03-28T22:35:11.905Z\n",
      "newest_available_date:2019-03-28\n",
      "oldest_available_date:2000-06-07\n",
      "column_names:['Date', 'Open', 'High', 'Low', 'Close', 'Change', 'Traded Volume', 'Turnover', 'Last Price of the Day', 'Daily Traded Units', 'Daily Turnover']\n",
      "frequency:daily\n",
      "type:Time Series\n",
      "premium:False\n",
      "limit:None\n",
      "transform:None\n",
      "column_index:None\n",
      "start_date:2017-01-01\n",
      "end_date:2017-01-02\n",
      "data:[['2017-01-02', 34.99, 35.94, 34.99, 35.8, None, 44700.0, 1590561.0, None, None, None]]\n",
      "collapse:None\n",
      "order:None\n",
      "database_id:6129\n",
      "[['2017-01-02', 34.99, 35.94, 34.99, 35.8, None, 44700.0, 1590561.0, None, None, None]]\n"
     ]
    }
   ],
   "source": [
    "rsample = requests.get(\n",
    "    'https://www.quandl.com/api/v3/datasets/FSE/AFX_X?start_date=2017-01-01&end_date=2017-01-02&api_key=HvCsSjxYKRQWEXcxJum-')\n",
    "datasample = rsample.json()\n",
    "\n",
    "datasample = datasample['dataset']\n",
    "#print(datasample.keys())\n",
    "for key, value in datasample.items():\n",
    "    print(str(key) + ':' + str(value))    \n",
    "stat = datasample['data']\n",
    "print(stat)\n",
    "#print(datasample)\n"
   ]
  },
  {
   "cell_type": "code",
   "execution_count": 12,
   "metadata": {},
   "outputs": [
    {
     "name": "stdout",
     "output_type": "stream",
     "text": [
      "HIGHEST PRICE OF THE YEAR: 2017-12-29\n",
      "LOWEST PRICE OF THE YEAR: 2017-01-02\n"
     ]
    }
   ],
   "source": [
    "\n",
    "r = requests.get(\n",
    "    'https://www.quandl.com/api/v3/datasets/FSE/AFX_X?start_date=2017-01-01&end_date=2017-12-31&api_key=HvCsSjxYKRQWEXcxJum-') \n",
    "#DELETE KEY BEFORE MAKING PUBLIC\n",
    "\n",
    "overview_2017 = r.json()\n",
    "\n",
    "\n",
    "data_2017 = overview_2017['dataset']['data']\n",
    "keys = overview_2017['dataset']['column_names']\n",
    "#create dict with keys as keys and data as data\n",
    "days = {}\n",
    "for d in data_2017:\n",
    "    d = dict(zip(keys, d)) #changes each day entry into a dict\n",
    "    days[d['Date']] = d\n",
    "#print(days)\n",
    "\n",
    "#Calculate what the highest and lowest opening prices were for the stock in this period.\n",
    "highs = []\n",
    "lows = []\n",
    "date_keys = []\n",
    "for date, stats in days.items():\n",
    "    highs.append(stats['High'])\n",
    "    lows.append(stats['Low'])\n",
    "    date_keys.append(date)\n",
    "\n",
    "daily_highs = dict(zip(date_keys, highs))\n",
    "print('HIGHEST PRICE OF THE YEAR: ' + max(daily_highs) + '')\n",
    "daily_lows = dict(zip(date_keys, lows))\n",
    "print('LOWEST PRICE OF THE YEAR: ' + min(daily_lows))"
   ]
  },
  {
   "cell_type": "markdown",
   "metadata": {},
   "source": [
    "These are your tasks for this mini project:\n",
    "\n",
    "1. Collect data from the Franfurt Stock Exchange, for the ticker AFX_X, for the whole year 2017 (keep in mind that the date format is YYYY-MM-DD).\n",
    "2. Convert the returned JSON object into a Python dictionary.\n",
    "3. Calculate what the highest and lowest opening prices were for the stock in this period.\n",
    "4. What was the largest change in any one day (based on High and Low price)?\n",
    "5. What was the largest change between any two days (based on Closing Price)?\n",
    "6. What was the average daily trading volume during this year?\n",
    "7. (Optional) What was the median trading volume during this year. (Note: you may need to implement your own function for calculating the median.)"
   ]
  },
  {
   "cell_type": "code",
   "execution_count": null,
   "metadata": {},
   "outputs": [],
   "source": []
  },
  {
   "cell_type": "code",
   "execution_count": null,
   "metadata": {},
   "outputs": [],
   "source": []
  }
 ],
 "metadata": {
  "kernelspec": {
   "display_name": "Python 3",
   "language": "python",
   "name": "python3"
  },
  "language_info": {
   "codemirror_mode": {
    "name": "ipython",
    "version": 3
   },
   "file_extension": ".py",
   "mimetype": "text/x-python",
   "name": "python",
   "nbconvert_exporter": "python",
   "pygments_lexer": "ipython3",
   "version": "3.7.1"
  }
 },
 "nbformat": 4,
 "nbformat_minor": 2
}
